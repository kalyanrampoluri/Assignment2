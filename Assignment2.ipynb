{
 "cells": [
  {
   "cell_type": "code",
   "execution_count": 1,
   "id": "a10d718d",
   "metadata": {},
   "outputs": [],
   "source": [
    "import csv\n",
    "import math\n",
    "import random"
   ]
  },
  {
   "cell_type": "code",
   "execution_count": 2,
   "id": "4841f865",
   "metadata": {},
   "outputs": [],
   "source": [
    "with open('rt_reviews.csv', 'r', newline='', encoding='cp1252') as csvfile:\n",
    "    reader = csv.DictReader(csvfile)\n",
    "    modified_data = []\n",
    "    for row in reader:\n",
    "        review = row['Review'].lower()\n",
    "        row['Review'] = review\n",
    "        modified_data.append(row)"
   ]
  },
  {
   "cell_type": "markdown",
   "id": "1ed88b98",
   "metadata": {},
   "source": [
    "Part A"
   ]
  },
  {
   "cell_type": "code",
   "execution_count": 3,
   "id": "4981d236",
   "metadata": {},
   "outputs": [],
   "source": [
    "random.shuffle(modified_data)\n",
    "train_size = int(0.6 * len(modified_data))\n",
    "dev_size = int(0.2 * len(modified_data))\n",
    "test_size = len(modified_data) - train_size - dev_size\n",
    "\n",
    "train = modified_data[:train_size]\n",
    "dev = modified_data[train_size:train_size+dev_size]\n",
    "test= modified_data[train_size+dev_size:]"
   ]
  },
  {
   "cell_type": "code",
   "execution_count": null,
   "id": "31e2af36",
   "metadata": {},
   "outputs": [],
   "source": []
  }
 ],
 "metadata": {
  "kernelspec": {
   "display_name": "Python 3 (ipykernel)",
   "language": "python",
   "name": "python3"
  },
  "language_info": {
   "codemirror_mode": {
    "name": "ipython",
    "version": 3
   },
   "file_extension": ".py",
   "mimetype": "text/x-python",
   "name": "python",
   "nbconvert_exporter": "python",
   "pygments_lexer": "ipython3",
   "version": "3.9.13"
  }
 },
 "nbformat": 4,
 "nbformat_minor": 5
}
